{
 "cells": [
  {
   "cell_type": "code",
   "execution_count": null,
   "id": "e083e2bc-9522-4533-ae98-eb48a45c6a56",
   "metadata": {},
   "outputs": [],
   "source": [
    "from google.colab import drive  \n",
    "drive.mount('/content/drive') # Se connecter sur google drive"
   ]
  },
  {
   "cell_type": "code",
   "execution_count": null,
   "id": "7c4d4640-e629-4ed2-bf1a-030ae3e9ef72",
   "metadata": {},
   "outputs": [],
   "source": [
    "# Installation des packages utiles dans ce processus\n",
    "!pip install torch==2.0.0  \n",
    "!pip install torchvision==0.15.1\n",
    "!pip install opencv-python==4.6.0.66\n",
    "!pip install matplotlib==3.5.3\n",
    "!pip install git+https://github.com/facebookresearch/detectron2.git"
   ]
  },
  {
   "cell_type": "markdown",
   "id": "5ce3974b-120a-489e-8e12-4929fbc751b7",
   "metadata": {},
   "source": [
    "Ensuite, nous avons créé un dossier nommé Detectron2 qui contient des fichiers de configuration essentiels  (loss.py, train.py, util.py, plot_loss.py) utilisés à la fois pendant l'apprentissage et après l'apprentissage du modèle. "
   ]
  },
  {
   "cell_type": "code",
   "execution_count": null,
   "id": "6213a115-c37b-4a7e-882f-4bd10de7a1ea",
   "metadata": {},
   "outputs": [],
   "source": [
    "%cd /content/drive/MyDrive/Detectron2/  # Se connecter aux dossier Detectron2 pour faciliter la tache"
   ]
  },
  {
   "cell_type": "code",
   "execution_count": null,
   "id": "6adda203-9aaf-4ba0-adb9-94cfe735b194",
   "metadata": {},
   "outputs": [],
   "source": [
    "!python train.py --device gpu --learning-rate 0.00001 --iterations 6000 # Commencer l'apprentissge avec 6000 iterations"
   ]
  },
  {
   "cell_type": "markdown",
   "id": "94c79261-f006-4663-aa48-3398ec28ed0e",
   "metadata": {},
   "source": [
    "# **Source:**"
   ]
  },
  {
   "cell_type": "markdown",
   "id": "17cc074d-ea3c-4287-97f1-45b8a264a472",
   "metadata": {},
   "source": [
    "**https://github.com/computervisioneng/train-object-detector-detectron2**"
   ]
  },
  {
   "cell_type": "code",
   "execution_count": null,
   "id": "df064916-0530-4367-970c-91122cc7747a",
   "metadata": {},
   "outputs": [],
   "source": []
  }
 ],
 "metadata": {
  "kernelspec": {
   "display_name": "Python 3 (ipykernel)",
   "language": "python",
   "name": "python3"
  },
  "language_info": {
   "codemirror_mode": {
    "name": "ipython",
    "version": 3
   },
   "file_extension": ".py",
   "mimetype": "text/x-python",
   "name": "python",
   "nbconvert_exporter": "python",
   "pygments_lexer": "ipython3",
   "version": "3.12.3"
  }
 },
 "nbformat": 4,
 "nbformat_minor": 5
}
