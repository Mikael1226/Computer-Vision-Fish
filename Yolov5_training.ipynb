{
 "cells": [
  {
   "cell_type": "markdown",
   "id": "15ab4735-80d7-415b-9a74-c4640c2f12ab",
   "metadata": {},
   "source": [
    "## **L'apprentissage de ce processus se fait sur google colab pour son puissance en GPU**"
   ]
  },
  {
   "cell_type": "code",
   "execution_count": null,
   "id": "a5bbfde5-cddd-4040-bbbf-0771d33305f5",
   "metadata": {},
   "outputs": [],
   "source": [
    "# importation de package\n",
    "import os"
   ]
  },
  {
   "cell_type": "code",
   "execution_count": null,
   "id": "fe0edc17-6d58-4136-a3a9-ca45bd2dcfb5",
   "metadata": {},
   "outputs": [],
   "source": [
    "os.chdir('/content/drive/MyDrive') # Se connecter à Google Drive pour importer les données et configurations des paramètres."
   ]
  },
  {
   "cell_type": "code",
   "execution_count": null,
   "id": "89c3ae15-f0c5-4c56-ac70-a39d9654812f",
   "metadata": {},
   "outputs": [],
   "source": [
    "!git clone https://github.com/ultralytics/yolov5.git # importer les outils du yolov5 dans google drive"
   ]
  },
  {
   "cell_type": "code",
   "execution_count": null,
   "id": "9a9b2df7-f32b-4685-ae59-9cffabae8470",
   "metadata": {},
   "outputs": [],
   "source": [
    "os.chdir('yolov5') # Se connecter avec l'outil importé précedemment pour faciliter la tache du travail"
   ]
  },
  {
   "cell_type": "code",
   "execution_count": null,
   "id": "04dfa72c-0b72-4d0a-ad53-0b58794ff5ff",
   "metadata": {},
   "outputs": [],
   "source": [
    "!pip install -r requirements.txt  # installation des packages importantes dans ce processus  "
   ]
  },
  {
   "cell_type": "code",
   "execution_count": null,
   "id": "658fc27b-9857-4ac6-8984-ef5c95e7b068",
   "metadata": {},
   "outputs": [],
   "source": [
    "!python train.py --epochs 100 --data config_yolo.yaml  --weights yolov5m.pt  --cache # Entraîner le modèle pré-entraîné sur nos images, dont l'emplacement est spécifié dans le fichier ' config_yolo.yaml' "
   ]
  },
  {
   "cell_type": "markdown",
   "id": "8378dc04-c92f-4964-aa1c-3e24f6557a92",
   "metadata": {},
   "source": [
    "# **Source :**"
   ]
  },
  {
   "cell_type": "markdown",
   "id": "c615f4a2-addf-45d4-af14-f3c2cf94744b",
   "metadata": {},
   "source": [
    "**https://youtu.be/mRhQmRm_egc?si=FM3luZsZlE_XLxg_**"
   ]
  },
  {
   "cell_type": "code",
   "execution_count": null,
   "id": "a82236b6-c8fc-423e-8122-ef72077b7c4e",
   "metadata": {},
   "outputs": [],
   "source": []
  }
 ],
 "metadata": {
  "kernelspec": {
   "display_name": "Python 3 (ipykernel)",
   "language": "python",
   "name": "python3"
  },
  "language_info": {
   "codemirror_mode": {
    "name": "ipython",
    "version": 3
   },
   "file_extension": ".py",
   "mimetype": "text/x-python",
   "name": "python",
   "nbconvert_exporter": "python",
   "pygments_lexer": "ipython3",
   "version": "3.12.3"
  }
 },
 "nbformat": 4,
 "nbformat_minor": 5
}
