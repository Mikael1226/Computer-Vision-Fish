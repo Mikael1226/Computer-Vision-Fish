{
 "cells": [
  {
   "cell_type": "code",
   "execution_count": null,
   "id": "b4fc08ba-ff11-411e-a23c-80e819c712da",
   "metadata": {},
   "outputs": [],
   "source": [
    "# importation de package\n",
    "import os\n",
    "import torch\n",
    "from ultralytics import YOLO"
   ]
  },
  {
   "cell_type": "code",
   "execution_count": null,
   "id": "50e48c07-935f-4673-8182-efaa43fbec1c",
   "metadata": {},
   "outputs": [],
   "source": [
    "os.chdir('/content/drive/MyDrive') # Se connecter à Google Drive pour importer les données et configurations des paramètres."
   ]
  },
  {
   "cell_type": "code",
   "execution_count": null,
   "id": "5f1c0e1f-a6c4-45df-b1ee-0d7b97869d3b",
   "metadata": {},
   "outputs": [],
   "source": [
    "!git clone https://github.com/ultralytics/ultralytics.git # importer les outils du yolov8 dans google drive"
   ]
  },
  {
   "cell_type": "code",
   "execution_count": null,
   "id": "2e88b138-4fc9-4fbe-b41b-f04c977467f5",
   "metadata": {},
   "outputs": [],
   "source": [
    "os.chdir('yolov8') # Se connecter avec l'outil importé précedemment pour faciliter la tache du travail"
   ]
  },
  {
   "cell_type": "code",
   "execution_count": null,
   "id": "22660ab1-cde8-4ef3-8a42-282d9ff1dad9",
   "metadata": {},
   "outputs": [],
   "source": [
    "ROOT_DIR='/content/drive/MyDrive/yolov8' # nous devons specifier le chemin complet car c'est important dans la suite"
   ]
  },
  {
   "cell_type": "code",
   "execution_count": null,
   "id": "30f4903d-77da-4dc5-818f-52183919b54e",
   "metadata": {},
   "outputs": [],
   "source": [
    "model=YOLO(\"yolov8m.pt\") # dans ce processus, nous travaillons avec l'architecture de taille moyenne (m) en raison de petite taille de nos jeu de données\n",
    "results=model.train(data=os.path.join(ROOT_DIR,\"config_yolo.yaml\"),epochs=100) # Entraîner le modèle pré-entraîné sur nos images, dont l'emplacement est spécifié dans le fichier ' config_yolo.yaml' "
   ]
  },
  {
   "cell_type": "code",
   "execution_count": null,
   "id": "2af92f91-75c2-436c-9b4a-111d9bab6cf2",
   "metadata": {},
   "outputs": [],
   "source": []
  },
  {
   "cell_type": "code",
   "execution_count": null,
   "id": "c3f32728-82c0-47b2-a68d-7d55373e382c",
   "metadata": {},
   "outputs": [],
   "source": []
  }
 ],
 "metadata": {
  "kernelspec": {
   "display_name": "Python 3 (ipykernel)",
   "language": "python",
   "name": "python3"
  },
  "language_info": {
   "codemirror_mode": {
    "name": "ipython",
    "version": 3
   },
   "file_extension": ".py",
   "mimetype": "text/x-python",
   "name": "python",
   "nbconvert_exporter": "python",
   "pygments_lexer": "ipython3",
   "version": "3.12.3"
  }
 },
 "nbformat": 4,
 "nbformat_minor": 5
}
